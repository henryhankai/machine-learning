{
 "cells": [
  {
   "cell_type": "markdown",
   "metadata": {
    "id": "P_peVmuS_guZ"
   },
   "source": [
    "# Henry Gu - Machine Learning - Final - Convolutional Neural Network / Autoencoder / MNST Dataset"
   ]
  },
  {
   "cell_type": "markdown",
   "metadata": {},
   "source": [
    "In this part of the final, we complete two tasks in relation to the MNST Dataset. Firstly, we develop a Convolutional Neural Network to perform classification of digits. Secondly, we develop two Autoencoders, one using the clean dataset and one using a dataset with noise injected as inputs."
   ]
  },
  {
   "cell_type": "markdown",
   "metadata": {
    "id": "BKRVSksTdrJh"
   },
   "source": [
    "# Load Packages"
   ]
  },
  {
   "cell_type": "code",
   "execution_count": null,
   "metadata": {
    "id": "pl3znvIx_guZ"
   },
   "outputs": [],
   "source": [
    "import numpy as np\n",
    "import pandas as pd"
   ]
  },
  {
   "cell_type": "markdown",
   "metadata": {
    "id": "-eu6Vo93drJl"
   },
   "source": [
    "# Load Data"
   ]
  },
  {
   "cell_type": "code",
   "execution_count": null,
   "metadata": {
    "id": "_ZfLoyoY_guc"
   },
   "outputs": [],
   "source": [
    "from keras.datasets import mnist\n",
    "(x_train, y_train), (x_test, y_test) = mnist.load_data()"
   ]
  },
  {
   "cell_type": "code",
   "execution_count": null,
   "metadata": {
    "colab": {
     "base_uri": "https://localhost:8080/"
    },
    "executionInfo": {
     "elapsed": 9,
     "status": "ok",
     "timestamp": 1636508036418,
     "user": {
      "displayName": "HENRY GU",
      "photoUrl": "https://lh3.googleusercontent.com/a/default-user=s64",
      "userId": "07219828137548441384"
     },
     "user_tz": 480
    },
    "id": "BjL97RM7_guc",
    "outputId": "5faf05db-0ecb-49f3-8146-5dc272c523c0"
   },
   "outputs": [
    {
     "name": "stdout",
     "output_type": "stream",
     "text": [
      "(60000, 28, 28)\n",
      "(60000,)\n",
      "(10000, 28, 28)\n",
      "(10000,)\n"
     ]
    }
   ],
   "source": [
    "print(x_train.shape)\n",
    "print(y_train.shape)\n",
    "print(x_test.shape)\n",
    "print(y_test.shape)"
   ]
  },
  {
   "cell_type": "code",
   "execution_count": null,
   "metadata": {
    "colab": {
     "base_uri": "https://localhost:8080/",
     "height": 268
    },
    "executionInfo": {
     "elapsed": 1476,
     "status": "ok",
     "timestamp": 1636508037889,
     "user": {
      "displayName": "HENRY GU",
      "photoUrl": "https://lh3.googleusercontent.com/a/default-user=s64",
      "userId": "07219828137548441384"
     },
     "user_tz": 480
    },
    "id": "Bxe8-1Zj_guc",
    "outputId": "6f443ead-230c-4138-bafb-0db674933b59"
   },
   "outputs": [
    {
     "data": {
      "image/png": "[encoded data removed]",
      "text/plain": [
       "<Figure size 432x288 with 9 Axes>"
      ]
     },
     "metadata": {
      "needs_background": "light"
     },
     "output_type": "display_data"
    }
   ],
   "source": [
    "import matplotlib.pyplot as plt\n",
    "# plot first few images\n",
    "for i in range(9):\n",
    "    # define subplot\n",
    "    plt.subplot(330 + 1 + i)\n",
    "    # plot raw pixel data\n",
    "    plt.imshow(x_train[i])\n",
    "# show the figure\n",
    "plt.show()"
   ]
  },
  {
   "cell_type": "markdown",
   "metadata": {
    "id": "qJwDL8XBdrJo"
   },
   "source": [
    "# Data Processing"
   ]
  },
  {
   "cell_type": "code",
   "execution_count": null,
   "metadata": {
    "id": "O9Mh0Ups_guc"
   },
   "outputs": [],
   "source": [
    "# Reshape the data\n",
    "x_train = x_train.reshape(60000,28,28,1)\n",
    "x_test = x_test.reshape(10000,28,28,1)  "
   ]
  },
  {
   "cell_type": "code",
   "execution_count": null,
   "metadata": {
    "colab": {
     "base_uri": "https://localhost:8080/"
    },
    "executionInfo": {
     "elapsed": 9,
     "status": "ok",
     "timestamp": 1636508037891,
     "user": {
      "displayName": "HENRY GU",
      "photoUrl": "https://lh3.googleusercontent.com/a/default-user=s64",
      "userId": "07219828137548441384"
     },
     "user_tz": 480
    },
    "id": "0HJPo5eeIX2J",
    "outputId": "7c1590b4-f241-41ca-be44-e482b6610fa6"
   },
   "outputs": [
    {
     "name": "stdout",
     "output_type": "stream",
     "text": [
      "(60000, 28, 28, 1)\n",
      "(60000,)\n",
      "(10000, 28, 28, 1)\n",
      "(10000,)\n"
     ]
    }
   ],
   "source": [
    "print(x_train.shape)\n",
    "print(y_train.shape)\n",
    "print(x_test.shape)\n",
    "print(y_test.shape)"
   ]
  },
  {
   "cell_type": "code",
   "execution_count": null,
   "metadata": {
    "id": "KZgQ6enJ_gud"
   },
   "outputs": [],
   "source": [
    "# Rescale the data\n",
    "x_train = x_train.astype('float32') \n",
    "x_train = x_train / 255.0\n",
    "\n",
    "x_test = x_test.astype('float32')\n",
    "x_test = x_test / 255.0"
   ]
  },
  {
   "cell_type": "code",
   "execution_count": null,
   "metadata": {
    "id": "jKxcwWtd_gud"
   },
   "outputs": [],
   "source": [
    "# Encode the y variable\n",
    "from sklearn.preprocessing import OneHotEncoder\n",
    "encoder = OneHotEncoder( handle_unknown='error')                 \n",
    "encoder.fit(pd.DataFrame(y_train)) \n",
    "encoded = encoder.transform(pd.DataFrame(y_train)).toarray()\n",
    "y_train = pd.DataFrame(encoded)\n",
    "y_train.columns = list(encoder.get_feature_names())\n",
    "encoded = encoder.transform(pd.DataFrame(y_test)).toarray()\n",
    "y_test = pd.DataFrame(encoded)\n",
    "y_test.columns = list(encoder.get_feature_names())"
   ]
  },
  {
   "cell_type": "markdown",
   "metadata": {},
   "source": [
    "# Part 1 - Convolutional Neural Networks"
   ]
  },
  {
   "cell_type": "markdown",
   "metadata": {
    "id": "lcShH3X7N1_3"
   },
   "source": [
    "## Simple multi-layer perceptron (MLP)\n",
    "First we consider the performance of a model that uses Dense layers"
   ]
  },
  {
   "cell_type": "markdown",
   "metadata": {
    "id": "re2uubfrdrJv"
   },
   "source": [
    "### Build Model"
   ]
  },
  {
   "cell_type": "code",
   "execution_count": null,
   "metadata": {
    "id": "83dNygdGN1_3"
   },
   "outputs": [],
   "source": [
    "import tensorflow as tf\n",
    "from keras.models import Sequential\n",
    "from keras.layers import Dense\n",
    "from tensorflow.keras.optimizers import Adam\n",
    "from numpy.random import seed\n",
    "import random as rn\n",
    "from keras.layers import Conv2D, MaxPool2D\n",
    "from keras.layers import Dense, Flatten\n",
    "\n",
    "rn.seed(12)\n",
    "np.random.seed(12)\n",
    "tf.compat.v1.set_random_seed(12)\n",
    "seed(1)\n",
    "tf.random.set_seed(12)\n",
    "\n",
    "def build_mlp_model():\n",
    "    model = Sequential()\n",
    "    \n",
    "    model.add(Flatten())\n",
    "    model.add(Dense(64, activation='relu'))\n",
    "    model.add(Dense(32, activation='relu'))\n",
    "    model.add(Dense(10, activation='softmax'))\n",
    "\n",
    "    model.compile(optimizer='adam',loss='categorical_crossentropy',metrics=['accuracy'])\n",
    "\n",
    "    return model\n",
    "\n",
    "model = build_mlp_model()"
   ]
  },
  {
   "cell_type": "markdown",
   "metadata": {
    "id": "uhXAgccRN1_3"
   },
   "source": [
    "### Train Model"
   ]
  },
  {
   "cell_type": "code",
   "execution_count": null,
   "metadata": {
    "colab": {
     "base_uri": "https://localhost:8080/"
    },
    "executionInfo": {
     "elapsed": 64933,
     "status": "ok",
     "timestamp": 1636508247039,
     "user": {
      "displayName": "HENRY GU",
      "photoUrl": "https://lh3.googleusercontent.com/a/default-user=s64",
      "userId": "07219828137548441384"
     },
     "user_tz": 480
    },
    "id": "XDMa3srnN1_3",
    "outputId": "93892f4f-18a3-4ce6-93f9-0c489c3660f1",
    "scrolled": true
   },
   "outputs": [
    {
     "name": "stdout",
     "output_type": "stream",
     "text": [
      "Epoch 1/20\n",
      "1875/1875 [==============================] - 9s 4ms/step - loss: 0.2938 - accuracy: 0.9142 - val_loss: 0.1614 - val_accuracy: 0.9499\n",
      "Epoch 2/20\n",
      "1875/1875 [==============================] - 8s 4ms/step - loss: 0.1367 - accuracy: 0.9588 - val_loss: 0.1126 - val_accuracy: 0.9653\n",
      "Epoch 3/20\n",
      "1875/1875 [==============================] - 8s 4ms/step - loss: 0.1005 - accuracy: 0.9694 - val_loss: 0.1054 - val_accuracy: 0.9674\n",
      "Epoch 4/20\n",
      "1875/1875 [==============================] - 8s 4ms/step - loss: 0.0829 - accuracy: 0.9744 - val_loss: 0.0970 - val_accuracy: 0.9708\n",
      "Epoch 5/20\n",
      "1875/1875 [==============================] - 8s 4ms/step - loss: 0.0687 - accuracy: 0.9786 - val_loss: 0.0932 - val_accuracy: 0.9716\n",
      "Epoch 6/20\n",
      "1875/1875 [==============================] - 8s 4ms/step - loss: 0.0594 - accuracy: 0.9811 - val_loss: 0.0833 - val_accuracy: 0.9762\n",
      "Epoch 7/20\n",
      "1875/1875 [==============================] - 8s 4ms/step - loss: 0.0496 - accuracy: 0.9841 - val_loss: 0.0917 - val_accuracy: 0.9746\n",
      "Epoch 8/20\n",
      "1875/1875 [==============================] - 8s 4ms/step - loss: 0.0432 - accuracy: 0.9861 - val_loss: 0.0936 - val_accuracy: 0.9734\n",
      "Epoch 00008: early stopping\n"
     ]
    },
    {
     "data": {
      "text/plain": [
       "<keras.callbacks.History at 0x7f952ad65a90>"
      ]
     },
     "execution_count": 29,
     "metadata": {},
     "output_type": "execute_result"
    }
   ],
   "source": [
    "from keras.callbacks import EarlyStopping\n",
    "es = EarlyStopping(monitor='val_loss', min_delta=0, patience=2, verbose=1, mode='auto')\n",
    "model.fit(x_train,y_train, validation_data=(x_test,y_test), epochs=20, callbacks=[es])"
   ]
  },
  {
   "cell_type": "markdown",
   "metadata": {
    "id": "4SjskPuvN1_3"
   },
   "source": [
    "### Evaluate Model"
   ]
  },
  {
   "cell_type": "code",
   "execution_count": null,
   "metadata": {
    "colab": {
     "base_uri": "https://localhost:8080/"
    },
    "executionInfo": {
     "elapsed": 938,
     "status": "ok",
     "timestamp": 1636508247972,
     "user": {
      "displayName": "HENRY GU",
      "photoUrl": "https://lh3.googleusercontent.com/a/default-user=s64",
      "userId": "07219828137548441384"
     },
     "user_tz": 480
    },
    "id": "-0myCIcbN1_3",
    "outputId": "ff24ab48-f510-4190-c933-e877595e221c"
   },
   "outputs": [
    {
     "name": "stdout",
     "output_type": "stream",
     "text": [
      "Test loss: 0.09363067150115967\n",
      "Test accuracy: 0.9733999967575073\n"
     ]
    }
   ],
   "source": [
    "score = model.evaluate(x_test, y_test, verbose = 0) \n",
    "print('Test loss:', score[0]) \n",
    "print('Test accuracy:', score[1])"
   ]
  },
  {
   "cell_type": "markdown",
   "metadata": {
    "id": "fE383J1v_gud"
   },
   "source": [
    "## Simple CNN Model\n",
    "Next we consider a basic CNN architecture"
   ]
  },
  {
   "cell_type": "markdown",
   "metadata": {
    "id": "UbIPDz3qdrJs"
   },
   "source": [
    "### Build Model"
   ]
  },
  {
   "cell_type": "code",
   "execution_count": null,
   "metadata": {
    "id": "EHw2vzuA_gud"
   },
   "outputs": [],
   "source": [
    "import tensorflow as tf\n",
    "from keras.models import Sequential\n",
    "from keras.layers import Dense\n",
    "from tensorflow.keras.optimizers import Adam\n",
    "from numpy.random import seed\n",
    "import random as rn\n",
    "from keras.layers import Conv2D, MaxPool2D\n",
    "from keras.layers import Dense, Flatten\n",
    "\n",
    "rn.seed(12)\n",
    "np.random.seed(12)\n",
    "tf.compat.v1.set_random_seed(12)\n",
    "seed(1)\n",
    "tf.random.set_seed(12)\n",
    "\n",
    "def build_cnn_model():\n",
    "    model = Sequential()\n",
    "\n",
    "    model.add(Conv2D(32, kernel_size =(5,5), activation = 'relu' ))\n",
    "    model.add(MaxPool2D(2))\n",
    "    model.add(Conv2D(32, kernel_size =(5,5), activation = 'relu' ))\n",
    "    model.add(MaxPool2D(2))\n",
    "    model.add(Dense(10,activation= 'relu'))   \n",
    "    model.add(Flatten())\n",
    "    model.add(Dense(10,activation= 'softmax'))   \n",
    "\n",
    "    model.compile(optimizer='adam',loss='categorical_crossentropy',metrics=['accuracy'])\n",
    "\n",
    "    return model\n",
    "\n",
    "model = build_cnn_model()"
   ]
  },
  {
   "cell_type": "markdown",
   "metadata": {
    "id": "B05wNkSWdrJt"
   },
   "source": [
    "### Train Model"
   ]
  },
  {
   "cell_type": "code",
   "execution_count": null,
   "metadata": {
    "colab": {
     "base_uri": "https://localhost:8080/"
    },
    "executionInfo": {
     "elapsed": 94265,
     "status": "ok",
     "timestamp": 1636508132288,
     "user": {
      "displayName": "HENRY GU",
      "photoUrl": "https://lh3.googleusercontent.com/a/default-user=s64",
      "userId": "07219828137548441384"
     },
     "user_tz": 480
    },
    "id": "9KwDFyoX_gud",
    "outputId": "25d09d82-16a7-4b42-ea07-5b36b86b97e4",
    "scrolled": true
   },
   "outputs": [
    {
     "name": "stdout",
     "output_type": "stream",
     "text": [
      "Epoch 1/15\n",
      "1875/1875 [==============================] - 13s 6ms/step - loss: 0.1936 - accuracy: 0.9411 - val_loss: 0.0710 - val_accuracy: 0.9758\n",
      "Epoch 2/15\n",
      "1875/1875 [==============================] - 12s 6ms/step - loss: 0.0664 - accuracy: 0.9795 - val_loss: 0.0462 - val_accuracy: 0.9845\n",
      "Epoch 3/15\n",
      "1875/1875 [==============================] - 12s 6ms/step - loss: 0.0497 - accuracy: 0.9839 - val_loss: 0.0591 - val_accuracy: 0.9805\n",
      "Epoch 4/15\n",
      "1875/1875 [==============================] - 12s 6ms/step - loss: 0.0395 - accuracy: 0.9871 - val_loss: 0.0405 - val_accuracy: 0.9873\n",
      "Epoch 5/15\n",
      "1875/1875 [==============================] - 12s 6ms/step - loss: 0.0330 - accuracy: 0.9893 - val_loss: 0.0379 - val_accuracy: 0.9868\n",
      "Epoch 6/15\n",
      "1875/1875 [==============================] - 12s 6ms/step - loss: 0.0284 - accuracy: 0.9908 - val_loss: 0.0312 - val_accuracy: 0.9896\n",
      "Epoch 7/15\n",
      "1875/1875 [==============================] - 12s 6ms/step - loss: 0.0231 - accuracy: 0.9926 - val_loss: 0.0375 - val_accuracy: 0.9877\n",
      "Epoch 8/15\n",
      "1875/1875 [==============================] - 12s 6ms/step - loss: 0.0196 - accuracy: 0.9936 - val_loss: 0.0359 - val_accuracy: 0.9899\n",
      "Epoch 00008: early stopping\n"
     ]
    },
    {
     "data": {
      "text/plain": [
       "<keras.callbacks.History at 0x7f94af154950>"
      ]
     },
     "execution_count": 26,
     "metadata": {},
     "output_type": "execute_result"
    }
   ],
   "source": [
    "from keras.callbacks import EarlyStopping\n",
    "es = EarlyStopping(monitor='val_loss', min_delta=0, patience=2, verbose=1, mode='auto')\n",
    "model.fit(x_train, y_train, epochs=15, validation_data=(x_test, y_test), callbacks=[es])"
   ]
  },
  {
   "cell_type": "markdown",
   "metadata": {
    "id": "w9eeFxJvdrJu"
   },
   "source": [
    "### Evaluate Model"
   ]
  },
  {
   "cell_type": "code",
   "execution_count": null,
   "metadata": {
    "colab": {
     "base_uri": "https://localhost:8080/"
    },
    "executionInfo": {
     "elapsed": 49838,
     "status": "ok",
     "timestamp": 1636508182119,
     "user": {
      "displayName": "HENRY GU",
      "photoUrl": "https://lh3.googleusercontent.com/a/default-user=s64",
      "userId": "07219828137548441384"
     },
     "user_tz": 480
    },
    "id": "xziZ1dSd_gud",
    "outputId": "5c9db55c-aeb2-4102-9a13-3d542c5901a1"
   },
   "outputs": [
    {
     "name": "stdout",
     "output_type": "stream",
     "text": [
      "Test loss: 0.03589436411857605\n",
      "Test accuracy: 0.9898999929428101\n"
     ]
    }
   ],
   "source": [
    "score = model.evaluate(x_test, y_test, verbose = 0) \n",
    "print('Test loss:', score[0]) \n",
    "print('Test accuracy:', score[1])"
   ]
  },
  {
   "cell_type": "markdown",
   "metadata": {},
   "source": [
    "We find that the CNN performs much better on digit identification compared to the MLP architecture."
   ]
  },
  {
   "cell_type": "markdown",
   "metadata": {
    "id": "nDBV47Ys_gud"
   },
   "source": [
    "# Part 2 - Autoencoders\n",
    "## Simple Autoencoder"
   ]
  },
  {
   "cell_type": "markdown",
   "metadata": {
    "id": "CyYvvFjXdrJx"
   },
   "source": [
    "### Build Model"
   ]
  },
  {
   "cell_type": "code",
   "execution_count": null,
   "metadata": {
    "id": "xYeLYEvu_gud"
   },
   "outputs": [],
   "source": [
    "from keras.layers import Flatten\n",
    "from keras.models import Model\n",
    "from keras.layers import Reshape, Input\n",
    "\n",
    "# Encoder layers\n",
    "encoding_dim = 4\n",
    "encoded = Sequential()\n",
    "encoded.add(Flatten())\n",
    "encoded.add(Dense(512,activation='relu') )\n",
    "encoded.add(Dense(256,activation='relu') )\n",
    "encoded.add(Dense(128,activation='relu') )\n",
    "encoded.add(Dense(encoding_dim,activation='relu') )\n",
    "\n",
    "# Decoder layers\n",
    "decoded = Sequential()\n",
    "decoded.add(Dense(128, activation = 'relu'))\n",
    "decoded.add(Dense(256, activation = 'relu'))\n",
    "decoded.add(Dense(512, activation = 'relu'))   \n",
    "decoded.add(Dense(784, activation = 'sigmoid'))\n",
    "decoded.add(Reshape((28,28)))\n",
    "\n",
    "input_x = Input(shape=(28, 28, 1))\n",
    "code = encoded(input_x)\n",
    "output = decoded(code)\n",
    "\n",
    "autoencoder = Model(input_x,output)\n",
    "\n",
    "autoencoder.compile(optimizer='adam', loss='mse')"
   ]
  },
  {
   "cell_type": "markdown",
   "metadata": {
    "id": "-QXU9iAI_gud"
   },
   "source": [
    "### Train Model"
   ]
  },
  {
   "cell_type": "code",
   "execution_count": null,
   "metadata": {
    "colab": {
     "base_uri": "https://localhost:8080/"
    },
    "executionInfo": {
     "elapsed": 316258,
     "status": "ok",
     "timestamp": 1636508564524,
     "user": {
      "displayName": "HENRY GU",
      "photoUrl": "https://lh3.googleusercontent.com/a/default-user=s64",
      "userId": "07219828137548441384"
     },
     "user_tz": 480
    },
    "id": "tJj4-XEv_gud",
    "outputId": "7c93f7ed-ec91-4910-86d4-7fcb88288544",
    "scrolled": true
   },
   "outputs": [
    {
     "name": "stdout",
     "output_type": "stream",
     "text": [
      "Epoch 1/50\n",
      "1875/1875 [==============================] - 11s 6ms/step - loss: 0.0446 - val_loss: 0.0339\n",
      "Epoch 2/50\n",
      "1875/1875 [==============================] - 10s 6ms/step - loss: 0.0317 - val_loss: 0.0301\n",
      "Epoch 3/50\n",
      "1875/1875 [==============================] - 10s 5ms/step - loss: 0.0291 - val_loss: 0.0287\n",
      "Epoch 4/50\n",
      "1875/1875 [==============================] - 10s 5ms/step - loss: 0.0278 - val_loss: 0.0271\n",
      "Epoch 5/50\n",
      "1875/1875 [==============================] - 10s 6ms/step - loss: 0.0270 - val_loss: 0.0266\n",
      "Epoch 6/50\n",
      "1875/1875 [==============================] - 10s 5ms/step - loss: 0.0262 - val_loss: 0.0263\n",
      "Epoch 7/50\n",
      "1875/1875 [==============================] - 10s 6ms/step - loss: 0.0257 - val_loss: 0.0257\n",
      "Epoch 8/50\n",
      "1875/1875 [==============================] - 10s 6ms/step - loss: 0.0254 - val_loss: 0.0257\n",
      "Epoch 9/50\n",
      "1875/1875 [==============================] - 10s 5ms/step - loss: 0.0250 - val_loss: 0.0253\n",
      "Epoch 10/50\n",
      "1875/1875 [==============================] - 10s 5ms/step - loss: 0.0246 - val_loss: 0.0252\n",
      "Epoch 11/50\n",
      "1875/1875 [==============================] - 10s 5ms/step - loss: 0.0244 - val_loss: 0.0250\n",
      "Epoch 12/50\n",
      "1875/1875 [==============================] - 10s 6ms/step - loss: 0.0241 - val_loss: 0.0246\n",
      "Epoch 13/50\n",
      "1875/1875 [==============================] - 10s 6ms/step - loss: 0.0239 - val_loss: 0.0248\n",
      "Epoch 14/50\n",
      "1875/1875 [==============================] - 10s 5ms/step - loss: 0.0239 - val_loss: 0.0246\n",
      "Epoch 15/50\n",
      "1875/1875 [==============================] - 10s 5ms/step - loss: 0.0237 - val_loss: 0.0246\n",
      "Epoch 16/50\n",
      "1875/1875 [==============================] - 10s 6ms/step - loss: 0.0235 - val_loss: 0.0246\n",
      "Epoch 17/50\n",
      "1875/1875 [==============================] - 10s 5ms/step - loss: 0.0235 - val_loss: 0.0242\n",
      "Epoch 18/50\n",
      "1875/1875 [==============================] - 10s 5ms/step - loss: 0.0233 - val_loss: 0.0242\n",
      "Epoch 19/50\n",
      "1875/1875 [==============================] - 10s 6ms/step - loss: 0.0231 - val_loss: 0.0242\n",
      "Epoch 20/50\n",
      "1875/1875 [==============================] - 10s 5ms/step - loss: 0.0230 - val_loss: 0.0243\n",
      "Epoch 21/50\n",
      "1875/1875 [==============================] - 10s 6ms/step - loss: 0.0229 - val_loss: 0.0240\n",
      "Epoch 22/50\n",
      "1875/1875 [==============================] - 10s 5ms/step - loss: 0.0228 - val_loss: 0.0241\n",
      "Epoch 23/50\n",
      "1875/1875 [==============================] - 10s 5ms/step - loss: 0.0227 - val_loss: 0.0240\n",
      "Epoch 24/50\n",
      "1875/1875 [==============================] - 10s 5ms/step - loss: 0.0226 - val_loss: 0.0240\n",
      "Epoch 25/50\n",
      "1875/1875 [==============================] - 10s 6ms/step - loss: 0.0226 - val_loss: 0.0240\n",
      "Epoch 26/50\n",
      "1875/1875 [==============================] - 10s 6ms/step - loss: 0.0225 - val_loss: 0.0238\n",
      "Epoch 27/50\n",
      "1875/1875 [==============================] - 10s 6ms/step - loss: 0.0224 - val_loss: 0.0242\n",
      "Epoch 28/50\n",
      "1875/1875 [==============================] - 10s 5ms/step - loss: 0.0223 - val_loss: 0.0240\n",
      "Epoch 29/50\n",
      "1875/1875 [==============================] - 10s 5ms/step - loss: 0.0223 - val_loss: 0.0241\n",
      "Epoch 30/50\n",
      "1875/1875 [==============================] - 11s 6ms/step - loss: 0.0222 - val_loss: 0.0242\n",
      "Epoch 31/50\n",
      "1875/1875 [==============================] - 10s 5ms/step - loss: 0.0222 - val_loss: 0.0241\n",
      "Epoch 00031: early stopping\n"
     ]
    }
   ],
   "source": [
    "from keras.callbacks import EarlyStopping\n",
    "es = EarlyStopping(monitor='val_loss', min_delta=0, patience=5, verbose=1, mode='auto')\n",
    "history = autoencoder.fit(x=x_train, y=x_train, epochs=50, validation_data=(x_test, x_test), callbacks=[es])"
   ]
  },
  {
   "cell_type": "markdown",
   "metadata": {
    "id": "ix7BwmtZ_gud"
   },
   "source": [
    "### Evaluate Model"
   ]
  },
  {
   "cell_type": "code",
   "execution_count": null,
   "metadata": {
    "colab": {
     "base_uri": "https://localhost:8080/"
    },
    "executionInfo": {
     "elapsed": 1026,
     "status": "ok",
     "timestamp": 1636508565544,
     "user": {
      "displayName": "HENRY GU",
      "photoUrl": "https://lh3.googleusercontent.com/a/default-user=s64",
      "userId": "07219828137548441384"
     },
     "user_tz": 480
    },
    "id": "sy2vip4E_gud",
    "outputId": "4b37d4fb-449d-4ced-ab6d-cac7976d5af2"
   },
   "outputs": [
    {
     "name": "stdout",
     "output_type": "stream",
     "text": [
      "val loss(MSE): 0.024077480658888817\n"
     ]
    }
   ],
   "source": [
    "results = autoencoder.evaluate(x_test, x_test, verbose=0)  \n",
    "print(\"val loss(MSE):\", results)"
   ]
  },
  {
   "cell_type": "markdown",
   "metadata": {
    "id": "nvq_j8HB_gud"
   },
   "source": [
    "Plot of encoded images"
   ]
  },
  {
   "cell_type": "code",
   "execution_count": null,
   "metadata": {
    "colab": {
     "base_uri": "https://localhost:8080/",
     "height": 264
    },
    "executionInfo": {
     "elapsed": 1032,
     "status": "ok",
     "timestamp": 1636508566570,
     "user": {
      "displayName": "HENRY GU",
      "photoUrl": "https://lh3.googleusercontent.com/a/default-user=s64",
      "userId": "07219828137548441384"
     },
     "user_tz": 480
    },
    "id": "a6x9ZLwi_gud",
    "outputId": "328bb9dd-1ba2-4540-ddbb-d12f01ba5df9"
   },
   "outputs": [
    {
     "data": {
      "image/png": "[encoded data removed]",
      "text/plain": [
       "<Figure size 1440x288 with 20 Axes>"
      ]
     },
     "metadata": {
      "needs_background": "light"
     },
     "output_type": "display_data"
    }
   ],
   "source": [
    "encoded_imgs = encoded(x_test).numpy()\n",
    "decoded_imgs = decoded(encoded_imgs).numpy()\n",
    "\n",
    "n = 10\n",
    "plt.figure(figsize=(20, 4))\n",
    "for i in range(n):\n",
    "  # display original\n",
    "  ax = plt.subplot(2, n, i + 1)\n",
    "  plt.imshow(x_test[i].reshape(28, 28))\n",
    "  plt.title(\"original\")\n",
    "  plt.gray()\n",
    "  ax.get_xaxis().set_visible(False)\n",
    "  ax.get_yaxis().set_visible(False)\n",
    "\n",
    "  # display reconstruction\n",
    "  ax = plt.subplot(2, n, i + 1 + n)\n",
    "  plt.imshow(encoded_imgs[i].reshape(2,2))\n",
    "  plt.title(\"Compressed\")\n",
    "  plt.gray()\n",
    "  ax.get_xaxis().set_visible(False)\n",
    "  ax.get_yaxis().set_visible(False)\n",
    "plt.show()"
   ]
  },
  {
   "cell_type": "markdown",
   "metadata": {
    "id": "iDu6PiJK_gud"
   },
   "source": [
    "Plot of decoded images"
   ]
  },
  {
   "cell_type": "code",
   "execution_count": null,
   "metadata": {
    "colab": {
     "base_uri": "https://localhost:8080/",
     "height": 264
    },
    "executionInfo": {
     "elapsed": 1316,
     "status": "ok",
     "timestamp": 1636508567881,
     "user": {
      "displayName": "HENRY GU",
      "photoUrl": "https://lh3.googleusercontent.com/a/default-user=s64",
      "userId": "07219828137548441384"
     },
     "user_tz": 480
    },
    "id": "pCPE0d2O_gud",
    "outputId": "b34d7058-7557-44c1-e09c-dfee4f411bf0"
   },
   "outputs": [
    {
     "data": {
      "image/png": "[encoded data removed]",
      "text/plain": [
       "<Figure size 1440x288 with 20 Axes>"
      ]
     },
     "metadata": {
      "needs_background": "light"
     },
     "output_type": "display_data"
    }
   ],
   "source": [
    "n = 10\n",
    "plt.figure(figsize=(20, 4))\n",
    "for i in range(n):\n",
    "  # display original\n",
    "  ax = plt.subplot(2, n, i + 1)\n",
    "  plt.imshow(x_test[i].reshape(28, 28))\n",
    "  plt.title(\"original\")\n",
    "  plt.gray()\n",
    "  ax.get_xaxis().set_visible(False)\n",
    "  ax.get_yaxis().set_visible(False)\n",
    "\n",
    "  # display reconstruction\n",
    "  ax = plt.subplot(2, n, i + 1 + n)\n",
    "  plt.imshow(decoded_imgs[i])\n",
    "  plt.title(\"reconstructed\")\n",
    "  plt.gray()\n",
    "  ax.get_xaxis().set_visible(False)\n",
    "  ax.get_yaxis().set_visible(False)\n",
    "plt.show()"
   ]
  },
  {
   "cell_type": "markdown",
   "metadata": {
    "id": "hj_sSSDp_gud"
   },
   "source": [
    "## Denoising Autoencoder"
   ]
  },
  {
   "cell_type": "code",
   "execution_count": null,
   "metadata": {
    "id": "dOkO7lh1_gud"
   },
   "outputs": [],
   "source": [
    "# Add some white noise into the original MNIST images\n",
    "import numpy as np\n",
    "noise_factor = 0.5\n",
    "x_train_noisy = x_train + noise_factor * np.random.normal(loc=0.0, scale=1.0, size=x_train.shape) \n",
    "x_test_noisy = x_test + noise_factor * np.random.normal(loc=0.0, scale=1.0, size=x_test.shape) \n",
    "x_train_noisy = np.clip(x_train_noisy, 0., 1.)\n",
    "x_test_noisy = np.clip(x_test_noisy, 0., 1.)"
   ]
  },
  {
   "cell_type": "markdown",
   "metadata": {
    "id": "ZDRCUsrQ_gud"
   },
   "source": [
    "Plot the noised images"
   ]
  },
  {
   "cell_type": "code",
   "execution_count": null,
   "metadata": {
    "colab": {
     "base_uri": "https://localhost:8080/",
     "height": 129
    },
    "executionInfo": {
     "elapsed": 550,
     "status": "ok",
     "timestamp": 1636508571249,
     "user": {
      "displayName": "HENRY GU",
      "photoUrl": "https://lh3.googleusercontent.com/a/default-user=s64",
      "userId": "07219828137548441384"
     },
     "user_tz": 480
    },
    "id": "3uk3DSg0_gud",
    "outputId": "6cb2fd90-157a-4072-93fd-f10147c0bfda"
   },
   "outputs": [
    {
     "data": {
      "image/png": "[encoded data removed]",
      "text/plain": [
       "<Figure size 1440x144 with 10 Axes>"
      ]
     },
     "metadata": {
      "needs_background": "light"
     },
     "output_type": "display_data"
    }
   ],
   "source": [
    "n = 10\n",
    "plt.figure(figsize=(20, 2))\n",
    "for i in range(n):\n",
    "    ax = plt.subplot(1, n, i + 1)\n",
    "    plt.imshow(x_test_noisy[i].reshape(28, 28))\n",
    "    plt.gray()\n",
    "    ax.get_xaxis().set_visible(False)\n",
    "    ax.get_yaxis().set_visible(False)\n",
    "plt.show()"
   ]
  },
  {
   "cell_type": "markdown",
   "metadata": {
    "id": "tr-jKZPXdrJ1"
   },
   "source": [
    "### Build Model"
   ]
  },
  {
   "cell_type": "code",
   "execution_count": null,
   "metadata": {
    "id": "GRW3Ep0c_gud"
   },
   "outputs": [],
   "source": [
    "from keras.models import Model\n",
    "from keras.layers import Conv2D, MaxPool2D, Input\n",
    "from keras.layers import UpSampling2D\n",
    "\n",
    "# encoder layers\n",
    "encoded = Sequential()\n",
    "encoded.add(Conv2D(512,  (3, 3)  ,activation='relu', padding='same') )\n",
    "encoded.add(MaxPool2D( (2,2), padding='same') )\n",
    "encoded.add(Conv2D(256,  (3, 3)  ,activation='relu', padding='same') )\n",
    "encoded.add(MaxPool2D( (2,2), padding='same') )\n",
    "\n",
    "# decoder layers\n",
    "decoded = Sequential()\n",
    "decoded.add(Conv2D(256,  (3, 3)  ,activation='relu', padding='same') )  \n",
    "decoded.add(UpSampling2D((2,2)))\n",
    "decoded.add(Conv2D(512,  (3, 3)  ,activation='relu', padding='same') )   \n",
    "decoded.add(UpSampling2D((2,2)))\n",
    "decoded.add(Conv2D(1,  (3, 3)  ,activation='sigmoid', padding='same') )\n",
    "\n",
    "img_x = 28\n",
    "img_y = 28\n",
    "input_x = Input(shape=(img_x, img_y, 1))\n",
    "code = encoded(input_x)\n",
    "output = decoded(code)\n",
    "\n",
    "autoencoder = Model(input_x,output)\n",
    "\n",
    "autoencoder.compile(optimizer='adam', loss='binary_crossentropy')"
   ]
  },
  {
   "cell_type": "markdown",
   "metadata": {
    "id": "HefogRZ7N1_3"
   },
   "source": [
    "### Train Model"
   ]
  },
  {
   "cell_type": "code",
   "execution_count": null,
   "metadata": {
    "colab": {
     "base_uri": "https://localhost:8080/"
    },
    "executionInfo": {
     "elapsed": 1027515,
     "status": "ok",
     "timestamp": 1636509598759,
     "user": {
      "displayName": "HENRY GU",
      "photoUrl": "https://lh3.googleusercontent.com/a/default-user=s64",
      "userId": "07219828137548441384"
     },
     "user_tz": 480
    },
    "id": "6sivW0pu_gud",
    "outputId": "a7d640d9-952c-495b-96b1-7fbd40e4854e",
    "scrolled": true
   },
   "outputs": [
    {
     "name": "stdout",
     "output_type": "stream",
     "text": [
      "Epoch 1/80\n",
      "1875/1875 [==============================] - 105s 55ms/step - loss: 0.1090 - val_loss: 0.0970\n",
      "Epoch 2/80\n",
      "1875/1875 [==============================] - 103s 55ms/step - loss: 0.0944 - val_loss: 0.0927\n",
      "Epoch 3/80\n",
      "1875/1875 [==============================] - 102s 55ms/step - loss: 0.0926 - val_loss: 0.0941\n",
      "Epoch 4/80\n",
      "1875/1875 [==============================] - 103s 55ms/step - loss: 0.0916 - val_loss: 0.0920\n",
      "Epoch 5/80\n",
      "1875/1875 [==============================] - 103s 55ms/step - loss: 0.0907 - val_loss: 0.0911\n",
      "Epoch 6/80\n",
      "1875/1875 [==============================] - 102s 55ms/step - loss: 0.0901 - val_loss: 0.0917\n",
      "Epoch 7/80\n",
      "1875/1875 [==============================] - 102s 55ms/step - loss: 0.0895 - val_loss: 0.0907\n",
      "Epoch 8/80\n",
      "1875/1875 [==============================] - 103s 55ms/step - loss: 0.0889 - val_loss: 0.0908\n",
      "Epoch 9/80\n",
      "1875/1875 [==============================] - 102s 55ms/step - loss: 0.0884 - val_loss: 0.0908\n",
      "Epoch 10/80\n",
      "1875/1875 [==============================] - 102s 54ms/step - loss: 0.0879 - val_loss: 0.0914\n",
      "Epoch 00010: early stopping\n"
     ]
    },
    {
     "data": {
      "text/plain": [
       "<keras.callbacks.History at 0x7f94b0ab8950>"
      ]
     },
     "execution_count": 39,
     "metadata": {},
     "output_type": "execute_result"
    }
   ],
   "source": [
    "from keras.callbacks import EarlyStopping\n",
    "es = EarlyStopping(monitor='val_loss', min_delta=0, patience=3, verbose=1, mode='auto')\n",
    "autoencoder.fit(x_train_noisy, x_train ,epochs=80, validation_data=(x_test_noisy, x_test), callbacks=[es]) "
   ]
  },
  {
   "cell_type": "markdown",
   "metadata": {
    "id": "R5xYkeycN1_3"
   },
   "source": [
    "### Evaluate Model"
   ]
  },
  {
   "cell_type": "code",
   "execution_count": null,
   "metadata": {
    "colab": {
     "base_uri": "https://localhost:8080/"
    },
    "executionInfo": {
     "elapsed": 66863,
     "status": "ok",
     "timestamp": 1636509665606,
     "user": {
      "displayName": "HENRY GU",
      "photoUrl": "https://lh3.googleusercontent.com/a/default-user=s64",
      "userId": "07219828137548441384"
     },
     "user_tz": 480
    },
    "id": "7vGkskkkbXme",
    "outputId": "0894643e-dc68-45dd-f7cc-b1349bbdbedd"
   },
   "outputs": [
    {
     "name": "stdout",
     "output_type": "stream",
     "text": [
      "1875/1875 [==============================] - 36s 19ms/step - loss: 0.0869\n",
      "Training Loss: 0.08685926347970963\n",
      "313/313 [==============================] - 6s 20ms/step - loss: 0.0914\n",
      "Test Loss 0.09140978008508682\n"
     ]
    }
   ],
   "source": [
    "train_results = autoencoder.evaluate(x_train_noisy, x_train)\n",
    "print('Training Loss:', train_results)\n",
    "\n",
    "test_results = autoencoder.evaluate(x_test_noisy, x_test)\n",
    "print('Test Loss', test_results)"
   ]
  },
  {
   "cell_type": "markdown",
   "metadata": {
    "id": "GYLULc_1_gud"
   },
   "source": [
    "Plot of noised images and their corresponding reconstructed images"
   ]
  },
  {
   "cell_type": "code",
   "execution_count": null,
   "metadata": {
    "colab": {
     "base_uri": "https://localhost:8080/"
    },
    "executionInfo": {
     "elapsed": 11410,
     "status": "ok",
     "timestamp": 1636509677010,
     "user": {
      "displayName": "HENRY GU",
      "photoUrl": "https://lh3.googleusercontent.com/a/default-user=s64",
      "userId": "07219828137548441384"
     },
     "user_tz": 480
    },
    "id": "lUFY0pO1N1_3",
    "outputId": "44fb65bf-da52-417f-b4b0-f1a84a3e10f5"
   },
   "outputs": [
    {
     "data": {
      "image/png": "[encoded data removed]",
      "text/plain": [
       "<Figure size 1440x288 with 20 Axes>"
      ]
     },
     "metadata": {
      "needs_background": "light"
     },
     "output_type": "display_data"
    }
   ],
   "source": [
    "decoded_imgs = autoencoder.predict(x_test_noisy)\n",
    "\n",
    "n = 10\n",
    "plt.figure(figsize=(20, 4))\n",
    "for i in range(n):\n",
    "    # display original\n",
    "    ax = plt.subplot(2, n, i + 1)\n",
    "    plt.imshow(x_test_noisy[i].reshape(28, 28))\n",
    "    plt.title(\"noised\")\n",
    "    plt.gray()\n",
    "    ax.get_xaxis().set_visible(False)\n",
    "    ax.get_yaxis().set_visible(False)\n",
    "\n",
    "    # display reconstruction\n",
    "    ax = plt.subplot(2, n, i + 1 + n)\n",
    "    plt.imshow(decoded_imgs[i].reshape(28, 28))\n",
    "    plt.title(\"reconstructed\")\n",
    "    plt.gray()\n",
    "    ax.get_xaxis().set_visible(False)\n",
    "    ax.get_yaxis().set_visible(False)\n",
    "plt.show()"
   ]
  }
 ],
 "metadata": {
  "accelerator": "GPU",
  "colab": {
   "collapsed_sections": [],
   "machine_shape": "hm",
   "name": "5_Convolutional Neural Networks.ipynb",
   "provenance": []
  },
  "kernelspec": {
   "display_name": "Python 3",
   "language": "python",
   "name": "python3"
  },
  "language_info": {
   "codemirror_mode": {
    "name": "ipython",
    "version": 3
   },
   "file_extension": ".py",
   "mimetype": "text/x-python",
   "name": "python",
   "nbconvert_exporter": "python",
   "pygments_lexer": "ipython3",
   "version": "3.8.3"
  }
 },
 "nbformat": 4,
 "nbformat_minor": 4
}
